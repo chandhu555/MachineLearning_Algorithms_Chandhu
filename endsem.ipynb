{
  "nbformat": 4,
  "nbformat_minor": 0,
  "metadata": {
    "colab": {
      "provenance": [],
      "authorship_tag": "ABX9TyO6YHSDWIe2Q5tXbtr8f40O",
      "include_colab_link": true
    },
    "kernelspec": {
      "name": "python3",
      "display_name": "Python 3"
    },
    "language_info": {
      "name": "python"
    }
  },
  "cells": [
    {
      "cell_type": "markdown",
      "metadata": {
        "id": "view-in-github",
        "colab_type": "text"
      },
      "source": [
        "<a href=\"https://colab.research.google.com/github/chandhu555/MachineLearning_Algorithms_Chandhu/blob/main/endsem.ipynb\" target=\"_parent\"><img src=\"https://colab.research.google.com/assets/colab-badge.svg\" alt=\"Open In Colab\"/></a>"
      ]
    },
    {
      "cell_type": "code",
      "execution_count": 2,
      "metadata": {
        "id": "NRGwzt6YMZOc"
      },
      "outputs": [],
      "source": [
        "\n",
        "import pandas as pd\n",
        "import numpy as np\n",
        "import matplotlib.pyplot as plt\n",
        "import seaborn as sns\n",
        "\n",
        "from sklearn.model_selection import train_test_split\n",
        "from sklearn.preprocessing import LabelEncoder, StandardScaler\n",
        "from sklearn.tree import DecisionTreeClassifier, plot_tree\n",
        "from sklearn.decomposition import PCA\n",
        "from sklearn.metrics import accuracy_score, precision_score, recall_score, f1_score, confusion_matrix, classification_report\n"
      ]
    },
    {
      "cell_type": "code",
      "source": [
        "# Load dataset\n",
        "data = pd.read_csv(\"Lung_Cancer_dataset.csv\")\n",
        "\n",
        "\n",
        "print(\"Dataset Preview:\")\n",
        "print(data.head())\n",
        "#Show information about dataset like coloms rows and data types\n",
        "print(\"\\nDataset Info:\")\n",
        "print(data.info())\n",
        "#  Check for missing values in each column\n",
        "print(\"\\nMissing values:\")\n",
        "print(data.isnull().sum())\n"
      ],
      "metadata": {
        "colab": {
          "base_uri": "https://localhost:8080/"
        },
        "id": "PR0-EJ-FM0Lc",
        "outputId": "847a2b1c-fbf1-462a-dcd6-02241e742858"
      },
      "execution_count": 4,
      "outputs": [
        {
          "output_type": "stream",
          "name": "stdout",
          "text": [
            "Dataset Preview:\n",
            "     Name      Surname  Age  Smokes  AreaQ  Alkhol  Result\n",
            "0    John         Wick   35       3      5       4       1\n",
            "1    John  Constantine   27      20      2       5       1\n",
            "2  Camela     Anderson   30       0      5       2       0\n",
            "3    Alex       Telles   28       0      8       1       0\n",
            "4   Diego     Maradona   68       4      5       6       1\n",
            "\n",
            "Dataset Info:\n",
            "<class 'pandas.core.frame.DataFrame'>\n",
            "RangeIndex: 59 entries, 0 to 58\n",
            "Data columns (total 7 columns):\n",
            " #   Column   Non-Null Count  Dtype \n",
            "---  ------   --------------  ----- \n",
            " 0   Name     59 non-null     object\n",
            " 1   Surname  59 non-null     object\n",
            " 2   Age      59 non-null     int64 \n",
            " 3   Smokes   59 non-null     int64 \n",
            " 4   AreaQ    59 non-null     int64 \n",
            " 5   Alkhol   59 non-null     int64 \n",
            " 6   Result   59 non-null     int64 \n",
            "dtypes: int64(5), object(2)\n",
            "memory usage: 3.4+ KB\n",
            "None\n",
            "\n",
            "Missing values:\n",
            "Name       0\n",
            "Surname    0\n",
            "Age        0\n",
            "Smokes     0\n",
            "AreaQ      0\n",
            "Alkhol     0\n",
            "Result     0\n",
            "dtype: int64\n"
          ]
        }
      ]
    },
    {
      "cell_type": "code",
      "source": [
        "# Handle missing values (replace with column mean)\n",
        "data = data.fillna(data.mean(numeric_only=True))\n",
        "\n",
        "# Separate features and target\n",
        "X = data.drop(columns=[\"Result\", \"Name\", \"Surname\"])   # Assuming target column is named like this\n",
        "y = data[\"Result\"]\n",
        "\n",
        "# Encode target if categorical\n",
        "if y.dtype == \"object\":\n",
        "    le = LabelEncoder()\n",
        "    y = le.fit_transform(y)\n",
        "\n",
        "# Scale features\n",
        "scaler = StandardScaler()\n",
        "X_scaled = scaler.fit_transform(X)\n",
        "\n",
        "# Train-test split (80-20)\n",
        "X_train, X_test, y_train, y_test = train_test_split(X_scaled, y, test_size=0.2, random_state=42, stratify=y)"
      ],
      "metadata": {
        "id": "xASTI8RBM44U"
      },
      "execution_count": 9,
      "outputs": []
    },
    {
      "cell_type": "code",
      "source": [
        "# Train Decision Tree\n",
        "dt = DecisionTreeClassifier(random_state=42)\n",
        "dt.fit(X_train, y_train)\n",
        "\n",
        "# Predictions\n",
        "y_pred = dt.predict(X_test)\n",
        "\n",
        "# Evaluation\n",
        "print(\"=== Baseline Decision Tree Performance ===\")\n",
        "print(\"Accuracy:\", accuracy_score(y_test, y_pred))\n",
        "print(\"Precision:\", precision_score(y_test, y_pred))\n",
        "print(\"Recall:\", recall_score(y_test, y_pred))\n",
        "print(\"F1-Score:\", f1_score(y_test, y_pred))\n",
        "print(\"\\nConfusion Matrix:\\n\", confusion_matrix(y_test, y_pred))\n",
        "print(\"\\nClassification Report:\\n\", classification_report(y_test, y_pred))\n",
        "\n"
      ],
      "metadata": {
        "colab": {
          "base_uri": "https://localhost:8080/"
        },
        "id": "Bzm6EluJNs--",
        "outputId": "d38cf9d9-d4e8-46ce-84b0-a24ec2f6c9ea"
      },
      "execution_count": 12,
      "outputs": [
        {
          "output_type": "stream",
          "name": "stdout",
          "text": [
            "=== Baseline Decision Tree Performance ===\n",
            "Accuracy: 1.0\n",
            "Precision: 1.0\n",
            "Recall: 1.0\n",
            "F1-Score: 1.0\n",
            "\n",
            "Confusion Matrix:\n",
            " [[6 0]\n",
            " [0 6]]\n",
            "\n",
            "Classification Report:\n",
            "               precision    recall  f1-score   support\n",
            "\n",
            "           0       1.00      1.00      1.00         6\n",
            "           1       1.00      1.00      1.00         6\n",
            "\n",
            "    accuracy                           1.00        12\n",
            "   macro avg       1.00      1.00      1.00        12\n",
            "weighted avg       1.00      1.00      1.00        12\n",
            "\n"
          ]
        }
      ]
    },
    {
      "cell_type": "code",
      "source": [
        "# Using PCA to make data smaller (keep 95% of info)\n",
        "pca = PCA(n_components=0.95)\n",
        "X_pca = pca.fit_transform(X_scaled)\n",
        "\n",
        "# Spliting data into training and testing sets\n",
        "X_train_pca, X_test_pca, y_train, y_test = train_test_split(\n",
        "    X_pca, y, test_size=0.2, random_state=42, stratify=y\n",
        ")\n",
        "\n",
        "# Training Decision Tree on PCA data\n",
        "dt_pca = DecisionTreeClassifier(random_state=42)\n",
        "dt_pca.fit(X_train_pca, y_train)\n",
        "\n",
        "# Predicting results with test data\n",
        "y_pred_pca = dt_pca.predict(X_test_pca)\n",
        "\n",
        "# Evaluation\n",
        "print(\"=== Decision Tree with PCA Performance ===\")\n",
        "print(\"Accuracy:\", accuracy_score(y_test, y_pred_pca))\n",
        "print(\"Precision:\", precision_score(y_test, y_pred_pca))\n",
        "print(\"Recall:\", recall_score(y_test, y_pred_pca))\n",
        "print(\"F1-Score:\", f1_score(y_test, y_pred_pca))\n",
        "print(\"\\nConfusion Matrix:\\n\", confusion_matrix(y_test, y_pred_pca))\n",
        "print(\"\\nClassification Report:\\n\", classification_report(y_test, y_pred_pca))\n",
        "\n"
      ],
      "metadata": {
        "colab": {
          "base_uri": "https://localhost:8080/"
        },
        "id": "6H9AqZigONb6",
        "outputId": "dd1ee7f8-7198-4463-dd17-6af892339ca8"
      },
      "execution_count": 14,
      "outputs": [
        {
          "output_type": "stream",
          "name": "stdout",
          "text": [
            "=== Decision Tree with PCA Performance ===\n",
            "Accuracy: 0.9166666666666666\n",
            "Precision: 0.8571428571428571\n",
            "Recall: 1.0\n",
            "F1-Score: 0.9230769230769231\n",
            "\n",
            "Confusion Matrix:\n",
            " [[5 1]\n",
            " [0 6]]\n",
            "\n",
            "Classification Report:\n",
            "               precision    recall  f1-score   support\n",
            "\n",
            "           0       1.00      0.83      0.91         6\n",
            "           1       0.86      1.00      0.92         6\n",
            "\n",
            "    accuracy                           0.92        12\n",
            "   macro avg       0.93      0.92      0.92        12\n",
            "weighted avg       0.93      0.92      0.92        12\n",
            "\n"
          ]
        }
      ]
    }
  ]
}